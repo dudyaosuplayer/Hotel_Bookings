{
 "cells": [
  {
   "cell_type": "markdown",
   "id": "f8e4d5be",
   "metadata": {
    "tags": []
   },
   "source": [
    "# Final Project\n",
    "\n",
    "# The Data\n",
    "\n",
    "This data set contains booking information for a city hotel and a resort hotel, and includes information such as when the booking was made, length of stay, the number of adults, children, and/or babies, and the number of available parking spaces, among other things.\n",
    "\n",
    "All personally identifying information has been removed from the data.\n",
    "\n",
    "\n",
    "----------------------------\n",
    "\n",
    "#### NOTE: Names, Emails, Phone Numbers, and Credit Card numbers in the data are synthetic and not real information from people. The hotel data is real from the publication listed above.\n",
    "\n",
    "## <div style=\"text-align: center\">Data Column Reference</div>\n",
    "\n",
    "<table><thead><tr class=\"rowsep-1\"><th scope=\"col\"><strong>Variable</strong></th><th scope=\"col\"><strong>Type</strong></th><th scope=\"col\"><strong>Description</strong></th><th scope=\"col\"><strong>Source/Engineering</strong></th></tr></thead><tbody><tr><th scope=\"row\"><em>ADR</em></th><td>Numeric</td><td>Average Daily Rate as defined by <a name=\"bbib5\" href=\"#bib5\" class=\"workspace-trigger\">[5]</a></td><td>BO, BL and TR / Calculated by dividing the sum of all lodging transactions by the total number of staying nights</td></tr><tr><th scope=\"row\"><em>Adults</em></th><td>Integer</td><td>Number of adults</td><td>BO and BL</td></tr><tr><th scope=\"row\"><em>Agent</em></th><td>Categorical</td><td>ID of the travel agency that made the booking<a name=\"btbl1fna\" href=\"#tbl1fna\" class=\"workspace-trigger\"><sup>a</sup></a></td><td>BO and BL</td></tr><tr><th scope=\"row\"><em>ArrivalDateDayOfMonth</em></th><td>Integer</td><td>Day of the month of the arrival date</td><td>BO and BL</td></tr><tr><th scope=\"row\"><em>ArrivalDateMonth</em></th><td>Categorical</td><td>Month of arrival date with 12 categories: “January” to “December”</td><td>BO and BL</td></tr><tr><th scope=\"row\"><em>ArrivalDateWeekNumber</em></th><td>Integer</td><td>Week number of the arrival date</td><td>BO and BL</td></tr><tr><th scope=\"row\"><em>ArrivalDateYear</em></th><td>Integer</td><td>Year of arrival date</td><td>BO and BL</td></tr><tr><th scope=\"row\"><em>AssignedRoomType</em></th><td>Categorical</td><td>Code for the type of room assigned to the booking. Sometimes the assigned room type differs from the reserved room type due to hotel operation reasons (e.g. overbooking) or by customer request. Code is presented instead of designation for anonymity reasons</td><td>BO and BL</td></tr><tr><th scope=\"row\"><em>Babies</em></th><td>Integer</td><td>Number of babies</td><td>BO and BL</td></tr><tr><th scope=\"row\"><em>BookingChanges</em></th><td>Integer</td><td>Number of changes/amendments made to the booking from the moment the booking was entered on the PMS until the moment of check-in or cancellation</td><td>BO and BL/Calculated by adding the number of unique iterations that change some of the booking attributes, namely: persons, arrival date, nights, reserved room type or meal</td></tr><tr><th scope=\"row\"><em>Children</em></th><td>Integer</td><td>Number of children</td><td>BO and BL/Sum of both payable and non-payable children</td></tr><tr><th scope=\"row\"><em>Company</em></th><td>Categorical</td><td>ID of the company/entity that made the booking or responsible for paying the booking. ID is presented instead of designation for anonymity reasons</td><td>BO and BL.</td></tr><tr><th scope=\"row\"><em>Country</em></th><td>Categorical</td><td>Country of origin. Categories are represented in the ISO 3155–3:2013 format <a name=\"bbib6\" href=\"#bib6\" class=\"workspace-trigger\">[6]</a></td><td>BO, BL and NT</td></tr><tr><th scope=\"row\"><br></th><td><br></td><td><br></td><td><br></td></tr><tr><th scope=\"row\" rowspan=\"5\"><em>CustomerType</em></th><td rowspan=\"5\">Categorical</td><td>Type of booking, assuming one of four categories:</td><td rowspan=\"5\">BO and BL</td></tr><tr><td>Contract - when the booking has an allotment or other type of contract associated to it;</td></tr><tr><td>Group – when the booking is associated to a group;</td></tr><tr><td>Transient – when the booking is not part of a group or contract, and is not associated to other transient booking;</td></tr><tr><td>Transient-party – when the booking is transient, but is associated to at least other transient booking</td></tr><tr><th scope=\"row\"><em>DaysInWaitingList</em></th><td>Integer</td><td>Number of days the booking was in the waiting list before it was confirmed to the customer</td><td>BO/Calculated by subtracting the date the booking was confirmed to the customer from the date the booking entered on the PMS</td></tr><tr><th scope=\"row\"><br></th><td><br></td><td><br></td><td><br></td></tr><tr><th scope=\"row\" rowspan=\"7\"><em>DepositType</em></th><td rowspan=\"7\">Categorical</td><td>Indication on if the customer made a deposit to guarantee the booking. This variable can assume three categories:</td><td rowspan=\"2\">BO and TR/Value calculated based on the payments identified for the booking in the transaction (TR) table before the booking׳s arrival or cancellation date.</td></tr><tr><td rowspan=\"3\">No Deposit – no deposit was made;</td></tr><tr><td>In case no payments were found the value is “No Deposit”.</td></tr><tr><td rowspan=\"2\">If the payment was equal or exceeded the total cost of stay, the value is set as “Non Refund”.</td></tr><tr><td rowspan=\"2\">Non Refund – a deposit was made in the value of the total stay cost;</td></tr><tr><td rowspan=\"2\">Otherwise the value is set as “Refundable”</td></tr><tr><td>Refundable – a deposit was made with a value under the total cost of stay.</td></tr><tr><th scope=\"row\"><em>DistributionChannel</em></th><td>Categorical</td><td>Booking distribution channel. The term “TA” means “Travel Agents” and “TO” means “Tour Operators”</td><td>BO, BL and DC</td></tr><tr><th scope=\"row\"><em>IsCanceled</em></th><td>Categorical</td><td>Value indicating if the booking was canceled (1) or not (0)</td><td>BO</td></tr><tr><th scope=\"row\"><em>IsRepeatedGuest</em></th><td>Categorical</td><td>Value indicating if the booking name was from a repeated guest (1) or not (0)</td><td>BO, BL and C/ Variable created by verifying if a profile was associated with the booking customer. If so, and if the customer profile creation date was prior to the creation date for the booking on the PMS database it was assumed the booking was from a repeated guest</td></tr><tr><th scope=\"row\"><em>LeadTime</em></th><td>Integer</td><td>Number of days that elapsed between the entering date of the booking into the PMS and the arrival date</td><td>BO and BL/ Subtraction of the entering date from the arrival date</td></tr><tr><th scope=\"row\"><em>MarketSegment</em></th><td>Categorical</td><td>Market segment designation. In categories, the term “TA” means “Travel Agents” and “TO” means “Tour Operators”</td><td>BO, BL and MS</td></tr><tr><th scope=\"row\"><br></th><td><br></td><td><br></td><td><br></td></tr><tr><th scope=\"row\" rowspan=\"5\"><em>Meal</em></th><td rowspan=\"5\">Categorical</td><td>Type of meal booked. Categories are presented in standard hospitality meal packages:</td><td rowspan=\"5\">BO, BL and ML</td></tr><tr><td>Undefined/SC – no meal package;</td></tr><tr><td>BB – Bed &amp; Breakfast;</td></tr><tr><td>HB – Half board (breakfast and one other meal – usually dinner);</td></tr><tr><td>FB – Full board (breakfast, lunch and dinner)</td></tr><tr><th scope=\"row\"><em>PreviousBookingsNotCanceled</em></th><td>Integer</td><td>Number of previous bookings not cancelled by the customer prior to the current booking</td><td>BO and BL / In case there was no customer profile associated with the booking, the value is set to 0. Otherwise, the value is the number of bookings with the same customer profile created before the current booking and not canceled.</td></tr><tr><th scope=\"row\"><em>PreviousCancellations</em></th><td>Integer</td><td>Number of previous bookings that were cancelled by the customer prior to the current booking</td><td>BO and BL/ In case there was no customer profile associated with the booking, the value is set to 0. Otherwise, the value is the number of bookings with the same customer profile created before the current booking and canceled.</td></tr><tr><th scope=\"row\"><em>RequiredCardParkingSpaces</em></th><td>Integer</td><td>Number of car parking spaces required by the customer</td><td>BO and BL</td></tr><tr><th scope=\"row\"><br></th><td><br></td><td><br></td><td><br></td></tr><tr><th scope=\"row\" rowspan=\"4\"><em>ReservationStatus</em></th><td rowspan=\"4\">Categorical</td><td>Reservation last status, assuming one of three categories:</td><td rowspan=\"4\">BO</td></tr><tr><td>Canceled – booking was canceled by the customer;</td></tr><tr><td>Check-Out – customer has checked in but already departed;</td></tr><tr><td>No-Show – customer did not check-in and did inform the hotel of the reason why</td></tr><tr><th scope=\"row\"><em>ReservationStatusDate</em></th><td>Date</td><td>Date at which the last status was set. This variable can be used in conjunction with the <em>ReservationStatus</em> to understand when was the booking canceled or when did the customer checked-out of the hotel</td><td>BO</td></tr><tr><th scope=\"row\"><em>ReservedRoomType</em></th><td>Categorical</td><td>Code of room type reserved. Code is presented instead of designation for anonymity reasons</td><td>BO and BL</td></tr><tr><th scope=\"row\"><em>StaysInWeekendNights</em></th><td>Integer</td><td>Number of weekend nights (Saturday or Sunday) the guest stayed or booked to stay at the hotel</td><td>BO and BL/ Calculated by counting the number of weekend nights from the total number of nights</td></tr><tr><th scope=\"row\"><em>StaysInWeekNights</em></th><td>Integer</td><td>Number of week nights (Monday to Friday) the guest stayed or booked to stay at the hotel</td><td>BO and BL/Calculated by counting the number of week nights from the total number of nights</td></tr><tr><th scope=\"row\"><em>TotalOfSpecialRequests</em></th><td>Integer</td><td>Number of special requests made by the customer (e.g. twin bed or high floor)</td><td>BO and BL/Sum of all special requests</td></tr></tbody></table>"
   ]
  },
  {
   "cell_type": "markdown",
   "id": "c9395336",
   "metadata": {},
   "source": [
    "inspect# __Project Title: Hotel Booking Analysis API__\n",
    "\n",
    "__Project Description__:\n",
    "\n",
    "The Hotel Booking Analysis API aims to provide a comprehensive set of endpoints for analyzing and retrieving insights from a dataset containing booking information for a city hotel and a resort hotel. The dataset includes various attributes such as booking dates, length of stay, number of guests, parking availability, pricing information, arrival dates, guest nationality, repeat guest status, meal package, and more. You need to implement the following endpoints making sure the requirements of project stated below the description of the endpoint.\n",
    "\n",
    "__API Endpoints:__\n",
    "\n",
    "- 1. __URL: /bookings__:\n",
    "    Retrieves a list of all bookings in the dataset.\n",
    "    \n",
    "- 2. __URL: /bookings/{booking_id}:__\n",
    "    Retrieves details of a specific booking by its unique ID.\n",
    "    \n",
    "- 3. __URL: /bookings/search:__\n",
    "    Allows searching for bookings based on various parameters such as guest name, booking dates, length of stay, etc.\n",
    "\n",
    "- 4. __URL:/bookings/stats:__\n",
    "    Provides statistical information about the dataset, such as the total number of bookings, average length of stay, average daily rate, etc.\n",
    "\n",
    "- 5. __URL: /bookings/analysis:__\n",
    "    Performs advanced analysis on the dataset, generating insights and trends based on specific criteria, such as booking trends by month, guest demographics, popular meal packages, etc.\n",
    "\n",
    "### More advanced functionalities\n",
    "\n",
    "- 6.__URL: /bookings/nationality__\n",
    "    \n",
    "    Description: Retrieves bookings based on the provided nationality.\n",
    "    Parameters:\n",
    "    nationality (str): The nationality for which to retrieve bookings.\n",
    "    Returns: The bookings matching the provided nationality.\n",
    "\n",
    "\n",
    "- 7. __URL: /bookings/popular_meal_package__\n",
    "    \n",
    "    Description: Retrieves the most popular meal package among all bookings.\n",
    "    Returns: The most popular meal package.\n",
    "\n",
    "\n",
    "- 8. __URL: /bookings/avg_length_of_stay__\n",
    "    \n",
    "    Description: Retrieves the average length of stay grouped by booking year and hotel type.\n",
    "    Returns: The average length of stay for each combination of booking year and hotel type.\n",
    "\n",
    "\n",
    "- 9. __URL: /bookings/total_revenue__\n",
    "    \n",
    "    Description: Retrieves the total revenue grouped by booking month and hotel type.\n",
    "    Returns: The total revenue for each combination of booking month and hotel type.\n",
    " \n",
    "\n",
    "- 10. __URL: /bookings/top_countries__\n",
    "    \n",
    "    Description: Retrieves the top 5 countries with the highest number of bookings.\n",
    "    Returns: The top 5 countries with the most bookings.\n",
    "\n",
    "\n",
    "- 11. __URL: /bookings/repeated_guests_percentage__\n",
    "    \n",
    "    Description: Retrieves the percentage of repeated guests among all bookings.\n",
    "    Returns: The percentage of repeated guests.\n",
    "\n",
    "\n",
    "- 12. __URL: /bookings/total_guests_by_year__\n",
    "    \n",
    "    Description: Retrieves the total number of guests (adults, children, and babies) by booking year.\n",
    "    Returns: The total number of guests by booking year.\n",
    "\n",
    "\n",
    "- 13. __URL: /bookings/avg_daily_rate_resort__\n",
    "    \n",
    "    Description: Retrieves the average daily rate by month for resort hotel bookings.\n",
    "    Returns: The average daily rate by month for resort hotel bookings.\n",
    "\n",
    "\n",
    "- 14. __URL: /bookings/most_common_arrival_day_city__\n",
    "    \n",
    "    Description: Retrieves the most common arrival date day of the week for city hotel bookings.\n",
    "    Returns: The most common arrival date day of the week for city hotel bookings.\n",
    "\n",
    "\n",
    "- 15. __URL: /bookings/count_by_hotel_meal__\n",
    "    \n",
    "    Description: Retrieves the count of bookings grouped by hotel type and meal package.\n",
    "    Returns: The count of bookings by hotel type and meal package.\n",
    "\n",
    "\n",
    "- 16. __URL: /bookings/total_revenue_resort_by_country__\n",
    "    \n",
    "    Description: Retrieves the total revenue by country for resort hotel bookings.\n",
    "    Returns: The total revenue by country for resort hotel bookings.\n",
    "\n",
    "\n",
    "- 17. __URL: /bookings/count_by_hotel_repeated_guest__\n",
    "    \n",
    "    Description: Retrieves the count of bookings grouped by hotel type and repeated guest status.\n",
    "    Returns: The count of bookings by hotel type and repeated guest status."
   ]
  },
  {
   "cell_type": "markdown",
   "id": "5100ccc9",
   "metadata": {},
   "source": [
    "# Requirements on final project"
   ]
  },
  {
   "cell_type": "markdown",
   "id": "0936bc7b",
   "metadata": {},
   "source": [
    "- All API endpoints must implement request parameter validation to ensure the correctness and integrity of the input data. Use Pydantic, Query and Path validation Fields if possible \n",
    "\n",
    "- Each endpoint should provide detailed description and documentation, including the expected request parameters, response format, and any possible errors. Use tags, summary, description and routing and http status codes\n",
    "\n",
    "- Research on how to Use basic authentification with username and password using fastapi.security -> HTTPBasic, HTTPBasicCredentials and using auxiliary function verify_credentials(credentials: HTTPBasicCredentials) and ensure  HTTP basic authentication for the last 5 endpoints ( 13 - 17 ) which means that only you if provide correct username and password you can get the output of the endpoint:\n",
    "\n",
    "- In order to use Sqlalchemy in the project create SQLite database table with the columns needed for the first 3 endpoints (  /bookings, /bookings/{booking_id}, /bookings/search to function properly and make sure that you take the data needed for the endpoints taken and filtered from the database( no pandas code here ) . Hints and Steps:  Create SQLite database named __hotel.db__ with a table named __bookings__ containing the __Id__, __booking_date__, __length_of_stay__, __guest_name__, and __daily_rate__ columns. You can then proceed to load your filtered dataset from pandas into this table using the to_sql method, and modify your FastAPI endpoints to query data from this database table set as a dependency for the endpoints that require database interaction. The dependency provides a new SQLAlchemy session for each request, and the session is automatically closed after the request is handled. "
   ]
  },
  {
   "cell_type": "markdown",
   "id": "8477af32",
   "metadata": {},
   "source": [
    "# Part of the finl project is to answer to the following 4 questions using pandas code"
   ]
  },
  {
   "cell_type": "markdown",
   "id": "a4910edf",
   "metadata": {},
   "source": [
    "**TASK: What are the top 5 most common last name in the dataset? Bonus: Can you figure this out in one line of pandas code? (For simplicity treat the a title such as MD as a last name, for example Caroline Conley MD can be said to have the last name MD)**"
   ]
  },
  {
   "cell_type": "code",
   "execution_count": 30,
   "id": "031bf637",
   "metadata": {},
   "outputs": [
    {
     "data": {
      "text/plain": [
       "Smith       2510\n",
       "Johnson     1998\n",
       "Williams    1628\n",
       "Jones       1441\n",
       "Brown       1433\n",
       "Name: name, dtype: int64"
      ]
     },
     "execution_count": 30,
     "metadata": {},
     "output_type": "execute_result"
    }
   ],
   "source": [
    "# CODE HERE WITH EXPECTED OUTPUT"
   ]
  },
  {
   "cell_type": "code",
   "execution_count": 2,
   "id": "c5b82c3c",
   "metadata": {},
   "outputs": [
    {
     "name": "stdout",
     "output_type": "stream",
     "text": [
      "1 variant:\n",
      " name\n",
      "Smith       2503\n",
      "Johnson     1990\n",
      "Williams    1618\n",
      "Jones       1434\n",
      "Brown       1423\n",
      "            ... \n",
      "Riggs         23\n",
      "Weeks         23\n",
      "IV            22\n",
      "Bolton        22\n",
      "V             10\n",
      "Name: count, Length: 1009, dtype: int64\n",
      "2 variant:\n",
      " name\n",
      "Smith       2503\n",
      "Johnson     1990\n",
      "Williams    1618\n",
      "Jones       1434\n",
      "Brown       1423\n",
      "            ... \n",
      "Riggs         23\n",
      "Weeks         23\n",
      "IV            22\n",
      "Bolton        22\n",
      "V             10\n",
      "Name: count, Length: 1009, dtype: int64\n"
     ]
    }
   ],
   "source": [
    "# MY ANSWER\n",
    "import pandas as pd\n",
    "import datetime\n",
    "\n",
    "df = pd.read_csv('hotel_booking_data.csv')\n",
    "\n",
    "print('1 variant:\\n', df['name'].str.split().str[-1].value_counts())\n",
    "print('2 variant:\\n', df['name'].apply(lambda x: x.split()[-1]).value_counts())\n"
   ]
  },
  {
   "cell_type": "markdown",
   "id": "40d9001b",
   "metadata": {},
   "source": [
    "**TASK: What are the names of the people who had booked the most number children and babies for their stay? (Don't worry if they canceled, only consider number of people reported at the time of their reservation)**"
   ]
  },
  {
   "cell_type": "code",
   "execution_count": 34,
   "id": "25b0ebb0",
   "metadata": {},
   "outputs": [
    {
     "data": {
      "text/html": [
       "<div>\n",
       "<style scoped>\n",
       "    .dataframe tbody tr th:only-of-type {\n",
       "        vertical-align: middle;\n",
       "    }\n",
       "\n",
       "    .dataframe tbody tr th {\n",
       "        vertical-align: top;\n",
       "    }\n",
       "\n",
       "    .dataframe thead th {\n",
       "        text-align: right;\n",
       "    }\n",
       "</style>\n",
       "<table border=\"1\" class=\"dataframe\">\n",
       "  <thead>\n",
       "    <tr style=\"text-align: right;\">\n",
       "      <th></th>\n",
       "      <th>name</th>\n",
       "      <th>adults</th>\n",
       "      <th>total_kids</th>\n",
       "      <th>babies</th>\n",
       "      <th>children</th>\n",
       "    </tr>\n",
       "  </thead>\n",
       "  <tbody>\n",
       "    <tr>\n",
       "      <th>328</th>\n",
       "      <td>Jamie Ramirez</td>\n",
       "      <td>2</td>\n",
       "      <td>10.0</td>\n",
       "      <td>0</td>\n",
       "      <td>10.0</td>\n",
       "    </tr>\n",
       "    <tr>\n",
       "      <th>46619</th>\n",
       "      <td>Nicholas Parker</td>\n",
       "      <td>2</td>\n",
       "      <td>10.0</td>\n",
       "      <td>10</td>\n",
       "      <td>0.0</td>\n",
       "    </tr>\n",
       "    <tr>\n",
       "      <th>78656</th>\n",
       "      <td>Marc Robinson</td>\n",
       "      <td>1</td>\n",
       "      <td>9.0</td>\n",
       "      <td>9</td>\n",
       "      <td>0.0</td>\n",
       "    </tr>\n",
       "  </tbody>\n",
       "</table>\n",
       "</div>"
      ],
      "text/plain": [
       "                  name  adults  total_kids  babies  children\n",
       "328      Jamie Ramirez       2        10.0       0      10.0\n",
       "46619  Nicholas Parker       2        10.0      10       0.0\n",
       "78656    Marc Robinson       1         9.0       9       0.0"
      ]
     },
     "execution_count": 34,
     "metadata": {},
     "output_type": "execute_result"
    }
   ],
   "source": [
    "# CODE HERE WITH EXPECTED OUTPUT"
   ]
  },
  {
   "cell_type": "code",
   "execution_count": 3,
   "id": "ec8fcced",
   "metadata": {},
   "outputs": [
    {
     "name": "stdout",
     "output_type": "stream",
     "text": [
      "1 variant:\n",
      "                   name  adults  total_kids  babies  children\n",
      "328      Jamie Ramirez       2        10.0       0      10.0\n",
      "46619  Nicholas Parker       2        10.0      10       0.0\n",
      "78656    Marc Robinson       1         9.0       9       0.0\n",
      "2 variant:\n",
      "                   name  adults  total_kids  babies  children\n",
      "328      Jamie Ramirez       2        10.0       0      10.0\n",
      "46619  Nicholas Parker       2        10.0      10       0.0\n",
      "78656    Marc Robinson       1         9.0       9       0.0\n"
     ]
    }
   ],
   "source": [
    "# MY ANSWER\n",
    "df['total_kids'] = df['babies'] + df['children']\n",
    "print('1 variant:\\n', df[['name', 'adults', 'total_kids', 'babies', 'children']].nlargest(3, 'total_kids'))\n",
    "print('2 variant:\\n', df[['name', 'adults', 'total_kids', 'babies', 'children']].sort_values('total_kids', ascending=False).head(3))"
   ]
  },
  {
   "cell_type": "markdown",
   "id": "c337d41d",
   "metadata": {},
   "source": [
    "**TASK: How many arrivals took place between the 1st and the 15th of the month (inclusive of 1 and 15) ? Can you do this in one line of pandas code?**"
   ]
  },
  {
   "cell_type": "code",
   "execution_count": 38,
   "id": "cef9bd85",
   "metadata": {},
   "outputs": [
    {
     "data": {
      "text/plain": [
       "58152"
      ]
     },
     "execution_count": 38,
     "metadata": {},
     "output_type": "execute_result"
    }
   ],
   "source": [
    "# CODE HERE WITH EXPECTED OUTPUT"
   ]
  },
  {
   "cell_type": "code",
   "execution_count": 4,
   "id": "4d180851",
   "metadata": {},
   "outputs": [
    {
     "data": {
      "text/plain": [
       "58152"
      ]
     },
     "execution_count": 4,
     "metadata": {},
     "output_type": "execute_result"
    }
   ],
   "source": [
    "# MY ANSWER\n",
    "df['arrival_date_day_of_month'].apply(lambda x: x in range(1, 16)).sum()"
   ]
  },
  {
   "cell_type": "markdown",
   "id": "7be53047",
   "metadata": {},
   "source": [
    "\n",
    "**TASK: Create a table for counts for each day of the week that people arrived. (E.g. 5000 arrivals were on a Monday, 3000 were on a Tuesday, etc..)**"
   ]
  },
  {
   "cell_type": "code",
   "execution_count": 47,
   "id": "86808985",
   "metadata": {},
   "outputs": [
    {
     "data": {
      "text/plain": [
       "Friday       19631\n",
       "Thursday     19254\n",
       "Monday       18171\n",
       "Saturday     18055\n",
       "Wednesday    16139\n",
       "Sunday       14141\n",
       "Tuesday      13999\n",
       "Name: date, dtype: int64"
      ]
     },
     "execution_count": 47,
     "metadata": {},
     "output_type": "execute_result"
    }
   ],
   "source": [
    "# CODE HERE WITH EXPECTED OUTPUT"
   ]
  },
  {
   "cell_type": "code",
   "execution_count": 5,
   "id": "4477d839",
   "metadata": {},
   "outputs": [
    {
     "name": "stdout",
     "output_type": "stream",
     "text": [
      "date\n",
      "Friday       19631\n",
      "Thursday     19254\n",
      "Monday       18171\n",
      "Saturday     18055\n",
      "Wednesday    16139\n",
      "Sunday       14141\n",
      "Tuesday      13999\n",
      "Name: count, dtype: int64\n"
     ]
    }
   ],
   "source": [
    "# MY ANSWER\n",
    "\n",
    "df['date'] = df.apply(lambda df: f\"{df['arrival_date_year']}-{df['arrival_date_month']}-{df['arrival_date_day_of_month']}\", axis=1)\n",
    "df['date'] = pd.to_datetime(df['date'])\n",
    "print(df['date'].dt.day_name().value_counts())\n"
   ]
  },
  {
   "cell_type": "markdown",
   "id": "351bf6dd",
   "metadata": {},
   "source": [
    "# Solution - Note: Use a Python scripts or scrip .py file(s) to write and send the solution so that I can run your project solution in my computer "
   ]
  },
  {
   "cell_type": "code",
   "execution_count": null,
   "id": "f2177d1c",
   "metadata": {},
   "outputs": [],
   "source": [
    "# Sample imports for solution\n",
    "from fastapi import FastAPI, Depends, HTTPException, Query\n",
    "from sqlalchemy import create_engine, Column, Integer, String, Float, Date\n",
    "from sqlalchemy.ext.declarative import declarative_base\n",
    "from sqlalchemy.orm import sessionmaker, Session\n",
    "from fastapi.security import HTTPBasic, HTTPBasicCredentials\n",
    "import pandas as pd\n",
    "import uvicorn\n",
    "\n",
    "# Load the dataset into a pandas DataFrame\n",
    "df = pd.read_csv('hotel_bookings_data.csv')\n",
    "\n",
    "# Set up the FastAPI application\n",
    "app = FastAPI()\n",
    "\n",
    "# YOUR PROJECT CODE HERE \n",
    "\n",
    "\n",
    "# Run the FastAPI application\n",
    "if __name__ == '__main__':\n",
    "    uvicorn.run(app, host='0.0.0.0', port=8000)"
   ]
  }
 ],
 "metadata": {
  "kernelspec": {
   "display_name": "Python 3 (ipykernel)",
   "language": "python",
   "name": "python3"
  },
  "language_info": {
   "codemirror_mode": {
    "name": "ipython",
    "version": 3
   },
   "file_extension": ".py",
   "mimetype": "text/x-python",
   "name": "python",
   "nbconvert_exporter": "python",
   "pygments_lexer": "ipython3",
   "version": "3.11.3"
  }
 },
 "nbformat": 4,
 "nbformat_minor": 5
}
